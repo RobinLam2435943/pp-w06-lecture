{
 "cells": [
  {
   "cell_type": "code",
   "execution_count": 1,
   "id": "5f14f9e0",
   "metadata": {},
   "outputs": [],
   "source": [
    "%load_ext line_profiler"
   ]
  },
  {
   "cell_type": "code",
   "execution_count": 8,
   "id": "57ea6937",
   "metadata": {},
   "outputs": [],
   "source": [
    "%lprun?"
   ]
  },
  {
   "cell_type": "code",
   "execution_count": 12,
   "id": "8b7e0317",
   "metadata": {},
   "outputs": [],
   "source": [
    "def sum_multiples(mults, N):\n",
    "    '''\n",
    "    Returns the sum of the multiples of each number\n",
    "    in \"mults\" between 1 and N.\n",
    "    If a number is a multiple of several numbers in \"mults\",\n",
    "    count it multiple times.\n",
    "    '''\n",
    "    # Start with an empty list\n",
    "#     to_sum = []\n",
    "    total = 0\n",
    "    for i in range(1, N+1):\n",
    "        for test_mult in mults:\n",
    "            if i % test_mult == 0:\n",
    "                total += i\n",
    "#                 to_sum.append(i)\n",
    "    \n",
    "#     total = 0\n",
    "#     for number in to_sum:\n",
    "#         total += number\n",
    "#     total = sum(to_sum)\n",
    "    \n",
    "    return total\n",
    "\n",
    "# Ideas to make this faster/more efficient?"
   ]
  },
  {
   "cell_type": "code",
   "execution_count": 15,
   "id": "95511fab",
   "metadata": {},
   "outputs": [],
   "source": [
    "def sum_multiples(mult, N):\n",
    "    total = 0\n",
    "    for test_mult in mults:\n",
    "        total += sum(range(test_mult, N+1, test_mult))\n",
    "    return total"
   ]
  },
  {
   "cell_type": "code",
   "execution_count": 7,
   "id": "d7eedce3",
   "metadata": {},
   "outputs": [],
   "source": [
    "N_max = 1000\n",
    "N_mult = 500\n",
    "\n",
    "import numpy as np\n",
    "rng = np.random.default_rng(1)\n",
    "mults = rng.integers(5, N_max, size=N_mult)"
   ]
  },
  {
   "cell_type": "code",
   "execution_count": 16,
   "id": "2ba8f258",
   "metadata": {},
   "outputs": [],
   "source": [
    "%lprun -f sum_multiples sum_multiples(mults, N_max)"
   ]
  },
  {
   "cell_type": "code",
   "execution_count": null,
   "id": "a7809dad",
   "metadata": {},
   "outputs": [],
   "source": []
  }
 ],
 "metadata": {
  "kernelspec": {
   "display_name": "Python 3 (ipykernel)",
   "language": "python",
   "name": "python3"
  },
  "language_info": {
   "codemirror_mode": {
    "name": "ipython",
    "version": 3
   },
   "file_extension": ".py",
   "mimetype": "text/x-python",
   "name": "python",
   "nbconvert_exporter": "python",
   "pygments_lexer": "ipython3",
   "version": "3.9.12"
  }
 },
 "nbformat": 4,
 "nbformat_minor": 5
}
